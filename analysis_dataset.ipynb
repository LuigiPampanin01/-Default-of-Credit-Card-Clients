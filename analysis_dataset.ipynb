{
 "cells": [
  {
   "cell_type": "code",
   "execution_count": 40,
   "metadata": {},
   "outputs": [],
   "source": [
    "import pandas as pd"
   ]
  },
  {
   "cell_type": "code",
   "execution_count": 41,
   "metadata": {},
   "outputs": [
    {
     "name": "stdout",
     "output_type": "stream",
     "text": [
      "<class 'pandas.core.frame.DataFrame'>\n",
      "RangeIndex: 84548 entries, 0 to 84547\n",
      "Data columns (total 22 columns):\n",
      " #   Column                          Non-Null Count  Dtype \n",
      "---  ------                          --------------  ----- \n",
      " 0   Unnamed: 0                      84548 non-null  int64 \n",
      " 1   BOROUGH                         84548 non-null  int64 \n",
      " 2   NEIGHBORHOOD                    84548 non-null  object\n",
      " 3   BUILDING CLASS CATEGORY         84548 non-null  object\n",
      " 4   TAX CLASS AT PRESENT            84548 non-null  object\n",
      " 5   BLOCK                           84548 non-null  int64 \n",
      " 6   LOT                             84548 non-null  int64 \n",
      " 7   EASE-MENT                       84548 non-null  object\n",
      " 8   BUILDING CLASS AT PRESENT       84548 non-null  object\n",
      " 9   ADDRESS                         84548 non-null  object\n",
      " 10  APARTMENT NUMBER                84548 non-null  object\n",
      " 11  ZIP CODE                        84548 non-null  int64 \n",
      " 12  RESIDENTIAL UNITS               84548 non-null  int64 \n",
      " 13  COMMERCIAL UNITS                84548 non-null  int64 \n",
      " 14  TOTAL UNITS                     84548 non-null  int64 \n",
      " 15  LAND SQUARE FEET                84548 non-null  object\n",
      " 16  GROSS SQUARE FEET               84548 non-null  object\n",
      " 17  YEAR BUILT                      84548 non-null  int64 \n",
      " 18  TAX CLASS AT TIME OF SALE       84548 non-null  int64 \n",
      " 19  BUILDING CLASS AT TIME OF SALE  84548 non-null  object\n",
      " 20  SALE PRICE                      84548 non-null  object\n",
      " 21  SALE DATE                       84548 non-null  object\n",
      "dtypes: int64(10), object(12)\n",
      "memory usage: 14.2+ MB\n"
     ]
    }
   ],
   "source": [
    "df = pd.read_csv('nyc-rolling-sales.csv')\n",
    "df.info()\n"
   ]
  },
  {
   "cell_type": "code",
   "execution_count": 42,
   "metadata": {},
   "outputs": [
    {
     "data": {
      "text/plain": [
       "(84548, 22)"
      ]
     },
     "execution_count": 42,
     "metadata": {},
     "output_type": "execute_result"
    }
   ],
   "source": [
    "df = df[df['SALE PRICE'] != 0]\n",
    "df.shape"
   ]
  },
  {
   "cell_type": "code",
   "execution_count": 43,
   "metadata": {},
   "outputs": [
    {
     "name": "stdout",
     "output_type": "stream",
     "text": [
      "Number of null values in SALE PRICE: 0\n"
     ]
    },
    {
     "data": {
      "text/plain": [
       "(84548, 22)"
      ]
     },
     "execution_count": 43,
     "metadata": {},
     "output_type": "execute_result"
    }
   ],
   "source": [
    "null_sale_price_count = df['SALE PRICE'].isnull().sum()\n",
    "print(f\"Number of null values in SALE PRICE: {null_sale_price_count}\")\n",
    "\n",
    "df = df.dropna(subset=['SALE PRICE'])\n",
    "df.shape"
   ]
  },
  {
   "cell_type": "code",
   "execution_count": 46,
   "metadata": {},
   "outputs": [
    {
     "data": {
      "text/plain": [
       "Index(['Unnamed: 0', 'NEIGHBORHOOD', 'TAX CLASS AT PRESENT', 'BLOCK', 'LOT',\n",
       "       'EASE-MENT', 'BUILDING CLASS AT PRESENT', 'ADDRESS', 'APARTMENT NUMBER',\n",
       "       'ZIP CODE', 'RESIDENTIAL UNITS', 'COMMERCIAL UNITS', 'TOTAL UNITS',\n",
       "       'LAND SQUARE FEET', 'GROSS SQUARE FEET', 'YEAR BUILT',\n",
       "       'BUILDING CLASS AT TIME OF SALE', 'SALE PRICE', 'SALE DATE',\n",
       "       'BOROUGH_brooklyn', 'BOROUGH_manhattan', 'BOROUGH_queens',\n",
       "       'BOROUGH_staten island',\n",
       "       'BUILDING CLASS CATEGORY_02 TWO FAMILY DWELLINGS                    ',\n",
       "       'BUILDING CLASS CATEGORY_03 THREE FAMILY DWELLINGS                  ',\n",
       "       'BUILDING CLASS CATEGORY_04 TAX CLASS 1 CONDOS                      ',\n",
       "       'BUILDING CLASS CATEGORY_05 TAX CLASS 1 VACANT LAND                 ',\n",
       "       'BUILDING CLASS CATEGORY_06 TAX CLASS 1 - OTHER                     ',\n",
       "       'BUILDING CLASS CATEGORY_07 RENTALS - WALKUP APARTMENTS             ',\n",
       "       'BUILDING CLASS CATEGORY_08 RENTALS - ELEVATOR APARTMENTS           ',\n",
       "       'BUILDING CLASS CATEGORY_09 COOPS - WALKUP APARTMENTS               ',\n",
       "       'BUILDING CLASS CATEGORY_10 COOPS - ELEVATOR APARTMENTS             ',\n",
       "       'BUILDING CLASS CATEGORY_11A CONDO-RENTALS                           ',\n",
       "       'BUILDING CLASS CATEGORY_12 CONDOS - WALKUP APARTMENTS              ',\n",
       "       'BUILDING CLASS CATEGORY_13 CONDOS - ELEVATOR APARTMENTS            ',\n",
       "       'BUILDING CLASS CATEGORY_14 RENTALS - 4-10 UNIT                     ',\n",
       "       'BUILDING CLASS CATEGORY_15 CONDOS - 2-10 UNIT RESIDENTIAL          ',\n",
       "       'BUILDING CLASS CATEGORY_16 CONDOS - 2-10 UNIT WITH COMMERCIAL UNIT ',\n",
       "       'BUILDING CLASS CATEGORY_17 CONDO COOPS                             ',\n",
       "       'TAX CLASS AT TIME OF SALE_2'],\n",
       "      dtype='object')"
      ]
     },
     "execution_count": 46,
     "metadata": {},
     "output_type": "execute_result"
    }
   ],
   "source": [
    "df = pd.read_csv('nyc-rolling-sales_cleaned.csv')\n",
    "df.columns\n"
   ]
  }
 ],
 "metadata": {
  "kernelspec": {
   "display_name": "env_ml_sp",
   "language": "python",
   "name": "python3"
  },
  "language_info": {
   "codemirror_mode": {
    "name": "ipython",
    "version": 3
   },
   "file_extension": ".py",
   "mimetype": "text/x-python",
   "name": "python",
   "nbconvert_exporter": "python",
   "pygments_lexer": "ipython3",
   "version": "3.12.2"
  }
 },
 "nbformat": 4,
 "nbformat_minor": 2
}
